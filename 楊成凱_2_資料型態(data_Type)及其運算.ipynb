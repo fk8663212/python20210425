{
  "nbformat": 4,
  "nbformat_minor": 0,
  "metadata": {
    "colab": {
      "name": "楊成凱 2_資料型態(data Type)及其運算.ipynb",
      "provenance": [],
      "collapsed_sections": [],
      "authorship_tag": "ABX9TyPO7dX8hYx6dfFXGRm/T98j",
      "include_colab_link": true
    },
    "kernelspec": {
      "name": "python3",
      "display_name": "Python 3"
    },
    "language_info": {
      "name": "python"
    }
  },
  "cells": [
    {
      "cell_type": "markdown",
      "metadata": {
        "id": "view-in-github",
        "colab_type": "text"
      },
      "source": [
        "<a href=\"https://colab.research.google.com/github/fk8663212/python20210425/blob/main/%E6%A5%8A%E6%88%90%E5%87%B1_2_%E8%B3%87%E6%96%99%E5%9E%8B%E6%85%8B(data_Type)%E5%8F%8A%E5%85%B6%E9%81%8B%E7%AE%97.ipynb\" target=\"_parent\"><img src=\"https://colab.research.google.com/assets/colab-badge.svg\" alt=\"Open In Colab\"/></a>"
      ]
    },
    {
      "cell_type": "markdown",
      "metadata": {
        "id": "Nk-b9XKzL4Tl"
      },
      "source": [
        "# **資料型態(data Type)及其運算**\n",
        "Python有眾多資料型態(data Type)及其各種運算\n",
        "\n",
        "    >* 數值(Numeric)資料及其運算\n",
        "    >* 字串(string)及其運算\n",
        "    >* 列表(list)資料及其運算\n",
        "    >* 字典(dict)資料及其運算  \n",
        "    >*[自我練習]tuple資料及其運算  \n",
        "    >*[自我練習]set資料及其運算\n",
        "    \n",
        " 本課程規劃讓同學快速掌握python程式的開發技術\n",
        " \n",
        " 還有更多技術及細節 請務必閱讀更多教材深入學習\n",
        " \n",
        " 資料型態(Data Type)學習重點:\n",
        "   \n",
        "   各種運算\n",
        "   \n",
        "   各種內建函數"
      ]
    },
    {
      "cell_type": "markdown",
      "metadata": {
        "id": "5UGdyuKnMEQS"
      },
      "source": [
        "# **1_數值(Numeric)資料及其運算**\n",
        "[1]Python支援的數值型資料型別(Numerics Data Type)\n",
        "[2]基本的運算  <==請參閱書籍\n",
        "算術運算子Arithmetic operators\n",
        "比較（關係）運算子Comparison operators\n",
        "賦值運算子Assignment operators\n",
        "邏輯運算符Logical operators\n",
        "位元運算子Bitwise operators\n",
        "成員運算子Identity operators\n",
        "身份運算子Membership operators\n",
        "\n",
        "運算子優先順序\n",
        "\n",
        "[3]內建的各種數學函數(Built-in functions)\n",
        "Python 支持三種不同的數值型別(Data Type)：\n",
        "\n",
        "[1]Int 整數，是可以是正或負整數，不帶小數點。\n",
        "   Python3  int是沒有限制大小的，可以當作 Long 類型使用，所以 Python3 沒有 Python2 的 Long 類型。\n",
        "\n",
        "[2]浮點數(float) :由整數部分與小數部分組成，浮點型也可以使用科學計數法表示（2.5e2 = 2.5 x 10 0 = 250）\n",
        "\n",
        "[3]複數( (complex)) - 複數由實數部分和虛數部分構成，可以用a + bj,或者complex(a,b)表示， \n",
        "                     複數的實部a和虛部b都是浮點型。"
      ]
    },
    {
      "cell_type": "markdown",
      "metadata": {
        "id": "d0Lq6bAxMPxy"
      },
      "source": [
        "# **2]基本的運算**\n",
        "請參閱底下網址完成數值(Numeric)資料的各種運算\n",
        "https://www.w3schools.com/python/python_operators.asp\n",
        "\n",
        " **[實作練習]底下程式執行後結果為何?**"
      ]
    },
    {
      "cell_type": "code",
      "metadata": {
        "colab": {
          "base_uri": "https://localhost:8080/"
        },
        "id": "eLIbGwANL2wg",
        "outputId": "e241d13a-a706-49e6-94e2-7c446db910a1"
      },
      "source": [
        "a = 17 / 3\n",
        "b = 17 // 3\n",
        "c = 17 % 3\n",
        "\n",
        "a,b,c"
      ],
      "execution_count": 1,
      "outputs": [
        {
          "output_type": "execute_result",
          "data": {
            "text/plain": [
              "(5.666666666666667, 5, 2)"
            ]
          },
          "metadata": {
            "tags": []
          },
          "execution_count": 1
        }
      ]
    },
    {
      "cell_type": "markdown",
      "metadata": {
        "id": "dngJafBPMbjK"
      },
      "source": [
        "# **邏輯運算 Logical Operators**\n",
        "**範例:底下輸出為何? and why?**"
      ]
    },
    {
      "cell_type": "code",
      "metadata": {
        "colab": {
          "base_uri": "https://localhost:8080/"
        },
        "id": "osgkHbs2MhU7",
        "outputId": "b2c3f756-1d6c-43aa-b717-341818ed9715"
      },
      "source": [
        "x = 5\n",
        "print(x > 3 and x < 10)\n",
        "\n",
        "print(x > 3 or x < 4)\n",
        "\n",
        "print(not(x > 3 and x < 10))"
      ],
      "execution_count": 6,
      "outputs": [
        {
          "output_type": "stream",
          "text": [
            "True\n",
            "True\n",
            "False\n"
          ],
          "name": "stdout"
        }
      ]
    },
    {
      "cell_type": "markdown",
      "metadata": {
        "id": "MBGt69jjM3oS"
      },
      "source": [
        "# **作業:Bitwise Operators[不要教,會花很多時間]**"
      ]
    },
    {
      "cell_type": "code",
      "metadata": {
        "colab": {
          "base_uri": "https://localhost:8080/"
        },
        "id": "NzJO68WBM0da",
        "outputId": "ad93aac2-69ce-49e9-a26b-34f081d7c269"
      },
      "source": [
        "a = 60            # 60 = 0011 1100 \n",
        "b = 13            # 13 = 0000 1101 \n",
        "c = 0\n",
        "\n",
        "print (\"0 - a =  60 = 0011 1100(二進位) \")\n",
        "print (\"0 - b =  13 = 0000 1101(二進位) \")\n",
        "c = a & b;        # 12 = 0000 1100\n",
        "print (\"1 - c = a & b的值為：\", c)\n",
        " \n",
        "c = a | b;        # 61 = 0011 1101 \n",
        "print (\"2 - c = a | b的值為：\", c)\n",
        " \n",
        "c = a ^ b;        # 49 = 0011 0001\n",
        "print (\"3 - c= a ^ b 的值為：\", c)\n",
        " \n",
        "c = ~a;           # -61 = 1100 0011\n",
        "print (\"4 - c = ~a的值為：\", c)\n",
        " \n",
        "c = a << 2;       # 240 = 1111 0000\n",
        "print (\"5 - c = a << 2的值為：\", c)\n",
        " \n",
        "c = a >> 2;       # 15 = 0000 1111\n",
        "print (\"6 - c = a >> 2的值為：\", c)"
      ],
      "execution_count": 7,
      "outputs": [
        {
          "output_type": "stream",
          "text": [
            "0 - a =  60 = 0011 1100(二進位) \n",
            "0 - b =  13 = 0000 1101(二進位) \n",
            "1 - c = a & b的值為： 12\n",
            "2 - c = a | b的值為： 61\n",
            "3 - c= a ^ b 的值為： 49\n",
            "4 - c = ~a的值為： -61\n",
            "5 - c = a << 2的值為： 240\n",
            "6 - c = a >> 2的值為： 15\n"
          ],
          "name": "stdout"
        }
      ]
    },
    {
      "cell_type": "markdown",
      "metadata": {
        "id": "JDUrv9EUM9mC"
      },
      "source": [
        "# **[3]內建函式: round()函數的測試**"
      ]
    },
    {
      "cell_type": "code",
      "metadata": {
        "colab": {
          "base_uri": "https://localhost:8080/"
        },
        "id": "5za3grNAM__K",
        "outputId": "7612fa26-cbd6-42b1-8dc2-165a98d1c984"
      },
      "source": [
        "#Round a number to only two decimals:\n",
        "x = round(5.76543, 2)\n",
        "print(x)\n",
        "\n",
        "\n",
        "# Round to the nearest integer:\n",
        "y = round(5.76543)\n",
        "print(y)\n"
      ],
      "execution_count": 9,
      "outputs": [
        {
          "output_type": "stream",
          "text": [
            "5.77\n",
            "6\n"
          ],
          "name": "stdout"
        }
      ]
    },
    {
      "cell_type": "markdown",
      "metadata": {
        "id": "rWFJA1_fNG5a"
      },
      "source": [
        "# **作業:參考底網址完成十種函數的自我測試報告**\n",
        "https://www.w3schools.com/python/python_ref_functions.asp"
      ]
    },
    {
      "cell_type": "markdown",
      "metadata": {
        "id": "9SEHG_8bNLmq"
      },
      "source": [
        "# **[4]Python 型態轉換**\n",
        "\n",
        "資料類型的轉換只需要將資料類型作為函數名即可。\n",
        "\n",
        "int(x) 將x轉換為一個整數。\n",
        "\n",
        "float(x) 將x轉換到一個浮點數。\n",
        "\n",
        "complex(x) 將x轉換到一個複數，實數部分為 x，虛數部分為 0。\n",
        "\n",
        "complex(x, y) 將 x 和 y 轉換到一個複數，實數部分為 x，虛數部分為 y。x 和 y 是數字運算式。"
      ]
    },
    {
      "cell_type": "code",
      "metadata": {
        "colab": {
          "base_uri": "https://localhost:8080/"
        },
        "id": "oye2jvzjNIpK",
        "outputId": "d6d68f77-f66c-4003-f48c-501148bc84a1"
      },
      "source": [
        "a = 1.0004\n",
        "int(a)\n",
        "\n",
        "b = 0.9999\n",
        "int(a)"
      ],
      "execution_count": 10,
      "outputs": [
        {
          "output_type": "execute_result",
          "data": {
            "text/plain": [
              "1"
            ]
          },
          "metadata": {
            "tags": []
          },
          "execution_count": 10
        }
      ]
    },
    {
      "cell_type": "markdown",
      "metadata": {
        "id": "Nit4O2NTNTcR"
      },
      "source": [
        "# **作業:picoCTF 2017 : compute-rsa-50**\n",
        "RSA encryption/decryption is based on a formula that anyone can find and use, \n",
        "as long as they know the values to plug in. \n",
        "\n",
        "Given the encrypted number 150815, d = 1941, and N = 435979, \n",
        "what is the decrypted number?\n",
        "\n",
        "HINTS\n",
        "decrypted = (encrypted) ^ d mod N\n",
        "\n",
        "運算優先順序 請參閱書籍"
      ]
    },
    {
      "cell_type": "markdown",
      "metadata": {
        "id": "j2i3UzYFNZUS"
      },
      "source": [
        "# **2_字串(string)及其運算**\n",
        "字串(string)\n",
        "[1]string字串 資料型態(data type)\n",
        "\n",
        "\n",
        "[2]string字串的運算\n",
        "\n",
        "[3]Python内建的字串函数(Built-in String Methods)\n",
        "\n",
        "# [2_1]string字串 資料型態(data type)  \n",
        "\n",
        "變數值以一對雙引號 (「\"」)或單引號 (「'」)\n",
        "\n",
        "str1 = '這是字串'\n",
        "\n",
        "str2 = \"這也是字串\"\n",
        "\n",
        "str3 = 'allows embedded \"double\" quotes'\n",
        "\n",
        "# [2_2]string字串的運算\n",
        "\n",
        "存取字串中的值: 使用方括號\n",
        "\n",
        "# **[實作練習]底下程式執行後結果為何?**"
      ]
    },
    {
      "cell_type": "code",
      "metadata": {
        "colab": {
          "base_uri": "https://localhost:8080/"
        },
        "id": "l352xHITNYZd",
        "outputId": "3e6ef4fc-04cb-4475-96ba-fa9f261abe6c"
      },
      "source": [
        "var1 = 'Hello Python!'\n",
        "\n",
        "print(\"var1[0]: \", var1[0])\n",
        "print(\"var1[1:8]: \", var1[1:8]) # Slicing 切片運算"
      ],
      "execution_count": 11,
      "outputs": [
        {
          "output_type": "stream",
          "text": [
            "var1[0]:  H\n",
            "var1[1:8]:  ello Py\n"
          ],
          "name": "stdout"
        }
      ]
    },
    {
      "cell_type": "markdown",
      "metadata": {
        "id": "DwTUr8y-N1iy"
      },
      "source": [
        "# **Slicing 切片運算範例:底下執行結果為何?**"
      ]
    },
    {
      "cell_type": "code",
      "metadata": {
        "colab": {
          "base_uri": "https://localhost:8080/"
        },
        "id": "r2I0p1CzN3t6",
        "outputId": "bc93dddf-2622-4d2d-9c0f-c8b8301515c7"
      },
      "source": [
        "b = \"Hello, World!\"\n",
        "print(b[2:5])\n",
        "print(b[:5])\n",
        "print(b[2:])\n",
        "print(b[-5:-2]) # Negative Indexing\n",
        "# 參考資料 https://www.w3schools.com/python/python_strings_slicing.asp"
      ],
      "execution_count": 12,
      "outputs": [
        {
          "output_type": "stream",
          "text": [
            "llo\n",
            "Hello\n",
            "llo, World!\n",
            "orl\n"
          ],
          "name": "stdout"
        }
      ]
    },
    {
      "cell_type": "markdown",
      "metadata": {
        "id": "grHbYr1KN6Tx"
      },
      "source": [
        "# **[2_3]Python内建的字串函数(Built-in String Methods)**\n",
        "\n",
        "# **[實作練習]底下程式執行後結果為何?**"
      ]
    },
    {
      "cell_type": "code",
      "metadata": {
        "id": "gv0dOtFYODGs"
      },
      "source": [
        "str1='happy python day'\n",
        "str2='    Oh!   '\n",
        "\n",
        "str4=str1 + str2   # 字串串接String Concatenation運算\n",
        "\n",
        "print(str4.capitalize())\n",
        "\n",
        "mystr = 'python'\n",
        "str4.find(py, beg=0, end=len(str4))"
      ],
      "execution_count": null,
      "outputs": []
    },
    {
      "cell_type": "markdown",
      "metadata": {
        "id": "6aUyLTZhOVVK"
      },
      "source": [
        "# **3_列表(list)資料及其運算**\n",
        "LIST是 Python 中最基本的資料結構。\n",
        "\n",
        "LIST使用一個方括號內的逗號分隔值出現。\n",
        "\n",
        "LIST的每個值都有對應的位置，稱之為索引( index)，\n",
        "\n",
        "第一個索引是 0，第二個索引是 1，依此類推。\n",
        "\n",
        "LIST都可以進行的操作包括索引，切片，加，乘，檢查成員。\n",
        "\n",
        "Python 內建許多函數: \n",
        "1.len(list):元素個數\n",
        "2.max(list)返回元素最大值\n",
        "3.min(list):返回元素最小值\n",
        "範例 1:底下程式執行後結果為何?"
      ]
    },
    {
      "cell_type": "code",
      "metadata": {
        "colab": {
          "base_uri": "https://localhost:8080/"
        },
        "id": "GkHwoCA-OZTB",
        "outputId": "bae6a4a9-028e-465b-d3dc-3259cf862481"
      },
      "source": [
        "list1 = [21, 33, 14, 12, 32, 98]\n",
        "\n",
        "list1[1]\n",
        "list1[-2]\n",
        "list1[1:-3]  # 切片運算"
      ],
      "execution_count": 16,
      "outputs": [
        {
          "output_type": "execute_result",
          "data": {
            "text/plain": [
              "[33, 14]"
            ]
          },
          "metadata": {
            "tags": []
          },
          "execution_count": 16
        }
      ]
    },
    {
      "cell_type": "markdown",
      "metadata": {
        "id": "3IAbR2tOOnCJ"
      },
      "source": [
        "# **範例 2:[內建函數]底下程式執行後結果為何?**"
      ]
    },
    {
      "cell_type": "code",
      "metadata": {
        "colab": {
          "base_uri": "https://localhost:8080/"
        },
        "id": "L8JU4OMVOin1",
        "outputId": "e6039a99-8061-49b3-91e7-77326345027d"
      },
      "source": [
        "\n",
        "list1 = [21, 33, 14, 12, 32, 98]\n",
        "\n",
        "len(list1)\n",
        "max(list1)\n",
        "min(list1)\n",
        "sum(list1)"
      ],
      "execution_count": 17,
      "outputs": [
        {
          "output_type": "execute_result",
          "data": {
            "text/plain": [
              "210"
            ]
          },
          "metadata": {
            "tags": []
          },
          "execution_count": 17
        }
      ]
    },
    {
      "cell_type": "markdown",
      "metadata": {
        "id": "642IUCA8Osac"
      },
      "source": [
        "# **4_字典(dict)資料及其運算**\n",
        "字典的每筆資料都使用key(鍵)=>value(值) pair(對)\n",
        "\n",
        "\n",
        "每筆資料都使用冒號 : 分割\n",
        "\n",
        "每對之間用逗號(,)分割，\n",
        "\n",
        "整個字典包括在花括弧 {} \n",
        "\n",
        "key(鍵)必須是唯一的，但value(值)則不必。\n",
        "\n",
        "Python 內建許多函數: \n",
        "    len(dict):計算字典元素個數，即鍵的總數。\n",
        "\n",
        "\n",
        "Python 內建許多方法(Method):\n",
        "\n",
        "字典.items():以列表返回LIST陣列\n",
        "\n",
        "字典.keys():返回所有keys\n",
        "\n",
        "字典.values():返回所有values"
      ]
    },
    {
      "cell_type": "code",
      "metadata": {
        "colab": {
          "base_uri": "https://localhost:8080/"
        },
        "id": "BmqBwSLyOzVC",
        "outputId": "db962d27-1c98-4290-83ca-7a017ed623bd"
      },
      "source": [
        "#定義方式\n",
        "a = dict(one=1, two=2, three=3)\n",
        "b = {'one': 1, 'two': 2, 'three': 3}\n",
        "c = dict(zip(['one', 'two', 'three'], [1, 2, 3]))\n",
        "d = dict([('two', 2), ('one', 1), ('three', 3)])\n",
        "e = dict({'three': 3, 'one': 1, 'two': 2})\n",
        "f = dict({'one': 1, 'three': 3}, two=2)\n",
        "a == b == c == d == e == f"
      ],
      "execution_count": 18,
      "outputs": [
        {
          "output_type": "execute_result",
          "data": {
            "text/plain": [
              "True"
            ]
          },
          "metadata": {
            "tags": []
          },
          "execution_count": 18
        }
      ]
    },
    {
      "cell_type": "code",
      "metadata": {
        "colab": {
          "base_uri": "https://localhost:8080/"
        },
        "id": "v5werLPPO7Vi",
        "outputId": "15ca45d0-23e1-426a-e3b1-d47820b185e2"
      },
      "source": [
        "dict = {'Name': 'DaDaLong', 'Age': 17, 'Class': 'First'}\n",
        "\n",
        "print(\"dict['Name']: \", dict['Name'])\n",
        "print(\"dict['Age']: \", dict['Age'])"
      ],
      "execution_count": 19,
      "outputs": [
        {
          "output_type": "stream",
          "text": [
            "dict['Name']:  DaDaLong\n",
            "dict['Age']:  17\n"
          ],
          "name": "stdout"
        }
      ]
    },
    {
      "cell_type": "code",
      "metadata": {
        "colab": {
          "base_uri": "https://localhost:8080/"
        },
        "id": "bigeKQvRO9QB",
        "outputId": "0c279eba-bfbd-420e-d4c0-679be119b8ab"
      },
      "source": [
        "dict = {'Name': 'DaDaLong', 'Age': 17, 'Class': 'First'}\n",
        "dict.items()"
      ],
      "execution_count": 20,
      "outputs": [
        {
          "output_type": "execute_result",
          "data": {
            "text/plain": [
              "dict_items([('Name', 'DaDaLong'), ('Age', 17), ('Class', 'First')])"
            ]
          },
          "metadata": {
            "tags": []
          },
          "execution_count": 20
        }
      ]
    },
    {
      "cell_type": "code",
      "metadata": {
        "colab": {
          "base_uri": "https://localhost:8080/"
        },
        "id": "9jVs1ELHO-1G",
        "outputId": "be3bc82c-fe66-4266-8ba6-dde3dda63792"
      },
      "source": [
        "dict = {'Name': 'DaDaLong', 'Age': 17, 'Class': 'First'}\n",
        "list(dict.items())\n",
        "dict = {'Name': 'DaDaLong', 'Age': 17, 'Class': 'First'}\n",
        "list(dict.keys())"
      ],
      "execution_count": 21,
      "outputs": [
        {
          "output_type": "execute_result",
          "data": {
            "text/plain": [
              "['Name', 'Age', 'Class']"
            ]
          },
          "metadata": {
            "tags": []
          },
          "execution_count": 21
        }
      ]
    },
    {
      "cell_type": "markdown",
      "metadata": {
        "id": "a9Dl-In6PEHG"
      },
      "source": [
        "# **應用範例程式**\n",
        "使用字典(dict)資料攢成簡單的小寫英文字母 的ASCII 字典\n",
        "https://en.wikipedia.org/wiki/ASCII\n",
        "\n",
        " a-->97  ... z-->122"
      ]
    },
    {
      "cell_type": "code",
      "metadata": {
        "colab": {
          "base_uri": "https://localhost:8080/"
        },
        "id": "RtZavSNQPC15",
        "outputId": "cd73b220-a4fa-482c-f6d5-b7e18307bebd"
      },
      "source": [
        "# key 是數字 value是小寫英文字母 97-->a  ... 122-->z\n",
        "ascii_a2z = {num: chr(num) for num in range(97,123)}\n",
        "ascii_a2z\n",
        "# key 是小寫英文字母   value是 數字 a-->97  ... z-->122\n",
        "alphas= []\n",
        "for num in range(97,123):\n",
        "    alpha = chr(num)\n",
        "    alphas.append(alpha)\n",
        "  \n",
        "ascii_a2z = {alpha: ord(alpha) for alpha in alphas}\n",
        "ascii_a2z"
      ],
      "execution_count": 22,
      "outputs": [
        {
          "output_type": "execute_result",
          "data": {
            "text/plain": [
              "{'a': 97,\n",
              " 'b': 98,\n",
              " 'c': 99,\n",
              " 'd': 100,\n",
              " 'e': 101,\n",
              " 'f': 102,\n",
              " 'g': 103,\n",
              " 'h': 104,\n",
              " 'i': 105,\n",
              " 'j': 106,\n",
              " 'k': 107,\n",
              " 'l': 108,\n",
              " 'm': 109,\n",
              " 'n': 110,\n",
              " 'o': 111,\n",
              " 'p': 112,\n",
              " 'q': 113,\n",
              " 'r': 114,\n",
              " 's': 115,\n",
              " 't': 116,\n",
              " 'u': 117,\n",
              " 'v': 118,\n",
              " 'w': 119,\n",
              " 'x': 120,\n",
              " 'y': 121,\n",
              " 'z': 122}"
            ]
          },
          "metadata": {
            "tags": []
          },
          "execution_count": 22
        }
      ]
    },
    {
      "cell_type": "markdown",
      "metadata": {
        "id": "0MckQa3HPMcr"
      },
      "source": [
        "# **[進階研讀]標準函式庫還定義有許多資料型態**\n",
        "The Python Standard Library\n",
        "https://docs.python.org/3/library/\n",
        "\n",
        "參考Built-in Types ==>\n",
        "Numeric Types — int, float, complex\n",
        "\n",
        "Text Sequence Type — str\n",
        "\n",
        "Sequence Types — list, tuple, range\n",
        "\n",
        "Mapping Types — dict"
      ]
    },
    {
      "cell_type": "code",
      "metadata": {
        "colab": {
          "base_uri": "https://localhost:8080/"
        },
        "id": "10fj8JnwPJ4j",
        "outputId": "3cc31dd1-3c07-4454-9dda-45aac4eb5a15"
      },
      "source": [
        "# [進階範例]底下程式執行後結果為何?\n",
        "\n",
        "from queue import Queue\n",
        "q = Queue()\n",
        "q.put(1)\n",
        "q.put(2)\n",
        "q.put(3)\n",
        "q\n",
        "print(q.queue)\n",
        "q.get()"
      ],
      "execution_count": 23,
      "outputs": [
        {
          "output_type": "stream",
          "text": [
            "deque([1, 2, 3])\n"
          ],
          "name": "stdout"
        },
        {
          "output_type": "execute_result",
          "data": {
            "text/plain": [
              "1"
            ]
          },
          "metadata": {
            "tags": []
          },
          "execution_count": 23
        }
      ]
    }
  ]
}