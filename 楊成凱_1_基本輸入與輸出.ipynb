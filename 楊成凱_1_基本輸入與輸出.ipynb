{
  "nbformat": 4,
  "nbformat_minor": 0,
  "metadata": {
    "colab": {
      "name": "楊成凱 1_基本輸入與輸出.ipynb",
      "provenance": [],
      "collapsed_sections": [],
      "authorship_tag": "ABX9TyPEFw+udTmKdXwbVnwV8W8B",
      "include_colab_link": true
    },
    "kernelspec": {
      "name": "python3",
      "display_name": "Python 3"
    },
    "language_info": {
      "name": "python"
    }
  },
  "cells": [
    {
      "cell_type": "markdown",
      "metadata": {
        "id": "view-in-github",
        "colab_type": "text"
      },
      "source": [
        "<a href=\"https://colab.research.google.com/github/fk8663212/python20210425/blob/main/%E6%A5%8A%E6%88%90%E5%87%B1_1_%E5%9F%BA%E6%9C%AC%E8%BC%B8%E5%85%A5%E8%88%87%E8%BC%B8%E5%87%BA.ipynb\" target=\"_parent\"><img src=\"https://colab.research.google.com/assets/colab-badge.svg\" alt=\"Open In Colab\"/></a>"
      ]
    },
    {
      "cell_type": "markdown",
      "metadata": {
        "id": "52yrA0gv8ZtJ"
      },
      "source": [
        "# **1_基礎輸入與輸出(Basic Input and Output)**\n",
        "\n",
        "使用input時，會從標準輸入(stdin)中讀取輸入資料\n",
        "這些資料是string字串型態{重要}\n",
        "\n",
        "stdin==Standard Input"
      ]
    },
    {
      "cell_type": "code",
      "metadata": {
        "colab": {
          "base_uri": "https://localhost:8080/"
        },
        "id": "FP5TEWzp8NQ0",
        "outputId": "dca4494b-b1cf-4bb0-bbfc-24511b99e3ae"
      },
      "source": [
        "x = input('Enter your name:')\n",
        "print('Hello, ' + x)\n",
        "\n",
        "###  使用Python內建的type()函數顯示資料型態\n",
        "type(x)"
      ],
      "execution_count": null,
      "outputs": [
        {
          "output_type": "stream",
          "text": [
            "Enter your name:123\n",
            "Hello, 123\n"
          ],
          "name": "stdout"
        },
        {
          "output_type": "execute_result",
          "data": {
            "text/plain": [
              "str"
            ]
          },
          "metadata": {
            "tags": []
          },
          "execution_count": 2
        }
      ]
    },
    {
      "cell_type": "markdown",
      "metadata": {
        "id": "WIrsY1HV8s5I"
      },
      "source": [
        "# **1_2_程式錯誤與更正**\n",
        "\n",
        "小明明正在學習python程式\n",
        "老師出了一題\n",
        "要輸入一個整數分數\n",
        "然後加1後\n",
        "輸出最後答案\n",
        "底下是小明明的python程式\n",
        "請指出底下的錯誤並更正"
      ]
    },
    {
      "cell_type": "code",
      "metadata": {
        "colab": {
          "base_uri": "https://localhost:8080/",
          "height": 233
        },
        "id": "vT8IJiBM86ho",
        "outputId": "39ab8166-d869-49f5-beb3-7a4c69faee92"
      },
      "source": [
        "a = input(\"請輸入：\")\n",
        "a\n",
        "b=a+1\n",
        "b"
      ],
      "execution_count": null,
      "outputs": [
        {
          "output_type": "stream",
          "text": [
            "請輸入：5\n"
          ],
          "name": "stdout"
        },
        {
          "output_type": "error",
          "ename": "TypeError",
          "evalue": "ignored",
          "traceback": [
            "\u001b[0;31m---------------------------------------------------------------------------\u001b[0m",
            "\u001b[0;31mTypeError\u001b[0m                                 Traceback (most recent call last)",
            "\u001b[0;32m<ipython-input-3-c41d06678cb4>\u001b[0m in \u001b[0;36m<module>\u001b[0;34m()\u001b[0m\n\u001b[1;32m      1\u001b[0m \u001b[0ma\u001b[0m \u001b[0;34m=\u001b[0m \u001b[0minput\u001b[0m\u001b[0;34m(\u001b[0m\u001b[0;34m\"請輸入：\"\u001b[0m\u001b[0;34m)\u001b[0m\u001b[0;34m\u001b[0m\u001b[0;34m\u001b[0m\u001b[0m\n\u001b[1;32m      2\u001b[0m \u001b[0ma\u001b[0m\u001b[0;34m\u001b[0m\u001b[0;34m\u001b[0m\u001b[0m\n\u001b[0;32m----> 3\u001b[0;31m \u001b[0mb\u001b[0m\u001b[0;34m=\u001b[0m\u001b[0ma\u001b[0m\u001b[0;34m+\u001b[0m\u001b[0;36m1\u001b[0m\u001b[0;34m\u001b[0m\u001b[0;34m\u001b[0m\u001b[0m\n\u001b[0m\u001b[1;32m      4\u001b[0m \u001b[0mb\u001b[0m\u001b[0;34m\u001b[0m\u001b[0;34m\u001b[0m\u001b[0m\n",
            "\u001b[0;31mTypeError\u001b[0m: can only concatenate str (not \"int\") to str"
          ]
        }
      ]
    },
    {
      "cell_type": "markdown",
      "metadata": {
        "id": "f3XEBpRB9BsA"
      },
      "source": [
        "更正的 小明明python程式\n",
        "如何讀取使用者輸入的整數===>使用eval()函數 或int()\n",
        "\n",
        "a = eval(input(\"請輸入：\"))\n",
        "a\n",
        "\n",
        "b=a+1\n",
        "b"
      ]
    },
    {
      "cell_type": "code",
      "metadata": {
        "colab": {
          "base_uri": "https://localhost:8080/"
        },
        "id": "o8YjnDYV9Txp",
        "outputId": "249701f7-750d-4698-e0a3-bf8f6731d525"
      },
      "source": [
        "a = eval(input(\"請輸入：\")) \n",
        "a\n",
        "b=a+1\n",
        "b"
      ],
      "execution_count": null,
      "outputs": [
        {
          "output_type": "stream",
          "text": [
            "請輸入：23\n"
          ],
          "name": "stdout"
        },
        {
          "output_type": "execute_result",
          "data": {
            "text/plain": [
              "24"
            ]
          },
          "metadata": {
            "tags": []
          },
          "execution_count": 6
        }
      ]
    },
    {
      "cell_type": "markdown",
      "metadata": {
        "id": "mRoeqz2B9ikQ"
      },
      "source": [
        "# **1_3_一次輸入多（兩）個資料**"
      ]
    },
    {
      "cell_type": "code",
      "metadata": {
        "id": "GEooWDft9o5v",
        "colab": {
          "base_uri": "https://localhost:8080/"
        },
        "outputId": "b4cc9246-6f7f-47b4-901e-51d1e0f741b1"
      },
      "source": [
        "a,b = eval(input(\"請輸入兩個數位：\"))\n",
        "a,b"
      ],
      "execution_count": 1,
      "outputs": [
        {
          "output_type": "stream",
          "text": [
            "請輸入兩個數位：1,2\n"
          ],
          "name": "stdout"
        },
        {
          "output_type": "execute_result",
          "data": {
            "text/plain": [
              "(1, 2)"
            ]
          },
          "metadata": {
            "tags": []
          },
          "execution_count": 1
        }
      ]
    },
    {
      "cell_type": "markdown",
      "metadata": {
        "id": "CG7prCjk90JP"
      },
      "source": [
        "# **1_4_高階技巧:[初學可略過]**"
      ]
    },
    {
      "cell_type": "code",
      "metadata": {
        "id": "Q4gUQGYl91oc",
        "colab": {
          "base_uri": "https://localhost:8080/"
        },
        "outputId": "e421af77-82c8-452b-b71d-fbf6436b7b6c"
      },
      "source": [
        "x, y, z = [int(x) for x in input(\"Enter three value: \").split()] \n",
        "print(\"First Number is: \", x) \n",
        "print(\"Second Number is: \", y) \n",
        "print(\"Third Number is: \", z) \n",
        "print()\n",
        "\n",
        "x, y, z = [int(x) for x in input(\"Enter three value: \").split(\",\")] \n",
        "print(\"First Number is: \", x) \n",
        "print(\"Second Number is: \", y) \n",
        "print(\"Third Number is: \", z) \n",
        "print()\n",
        "\n",
        "a, b = input(\"Enter a two value: \").split() \n",
        "print(\"First number is {} and second number is {}\".format(a, b)) \n",
        "print()"
      ],
      "execution_count": 5,
      "outputs": [
        {
          "output_type": "stream",
          "text": [
            "Enter three value: 2 5 6\n",
            "First Number is:  2\n",
            "Second Number is:  5\n",
            "Third Number is:  6\n",
            "\n",
            "Enter three value: 1,3,4\n",
            "First Number is:  1\n",
            "Second Number is:  3\n",
            "Third Number is:  4\n",
            "\n",
            "Enter a two value: 5 6\n",
            "First number is 5 and second number is 6\n",
            "\n"
          ],
          "name": "stdout"
        }
      ]
    },
    {
      "cell_type": "markdown",
      "metadata": {
        "id": "5sP-lane-UNH"
      },
      "source": [
        "# **2_格式化輸出**\n",
        "1.使用String modulo operator(%)\n",
        "\n",
        "2.使用format 方法"
      ]
    },
    {
      "cell_type": "markdown",
      "metadata": {
        "id": "ZzkCi0r0-Z5K"
      },
      "source": [
        "# **2_1_使用String modulo operator(%)**"
      ]
    },
    {
      "cell_type": "code",
      "metadata": {
        "colab": {
          "base_uri": "https://localhost:8080/"
        },
        "id": "pFYEQW7c-XCf",
        "outputId": "23c841f7-2dcb-4f38-e6a5-b2c392fcdc90"
      },
      "source": [
        "# 列印整數(integer)與 浮點數(float) 的值\n",
        "print(\"Happy : %2d, Python : %5.2f\" % (1, 05.333))\n",
        " \n",
        "# 列印整數值 ==> %3d 和 %2d有 何不同\n",
        "print(\"Total students : %3d, Boys : %2d\" % (240, 120))\n",
        " \n",
        "# print octal value\n",
        "print(\"%7.3o\" % (25))\n",
        " \n",
        "# print exponential value\n",
        "print(\"%10.3E\" % (356.08977))"
      ],
      "execution_count": null,
      "outputs": [
        {
          "output_type": "stream",
          "text": [
            "Happy :  1, Python :  5.33\n",
            "Total students : 240, Boys : 120\n",
            "    031\n",
            " 3.561E+02\n"
          ],
          "name": "stdout"
        }
      ]
    },
    {
      "cell_type": "markdown",
      "metadata": {
        "id": "oAHmfwvJ-dTB"
      },
      "source": [
        "# **2_2.使用format 方法**"
      ]
    },
    {
      "cell_type": "code",
      "metadata": {
        "id": "mPTKN_JK-fhU",
        "colab": {
          "base_uri": "https://localhost:8080/"
        },
        "outputId": "741e8850-8ebc-4f77-f16b-ee15f50613c9"
      },
      "source": [
        "# using format() method\n",
        "print('I love {} for \"{}!\"'.format('Python', 'CTFer'))\n",
        " \n",
        "# 使用位置表達 ==>看看底下有何不同\n",
        "print('{0} and {1}'.format('Python', 'CTFer'))\n",
        " \n",
        "print('{1} and {0}'.format('Python', 'CTFer'))"
      ],
      "execution_count": 6,
      "outputs": [
        {
          "output_type": "stream",
          "text": [
            "I love Python for \"CTFer!\"\n",
            "Python and CTFer\n",
            "CTFer and Python\n"
          ],
          "name": "stdout"
        }
      ]
    },
    {
      "cell_type": "markdown",
      "metadata": {
        "id": "kdcUOwb6-h3m"
      },
      "source": [
        "更多格式化輸出方法請參閱底下資料\n",
        "\n",
        "Python | Output Formatting\n",
        "\n",
        "https://www.geeksforgeeks.org/python-output-formatting/"
      ]
    }
  ]
}