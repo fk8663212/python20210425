{
  "nbformat": 4,
  "nbformat_minor": 0,
  "metadata": {
    "colab": {
      "name": "楊成凱 3_python決策與選擇結構.ipynb",
      "provenance": [],
      "collapsed_sections": [],
      "authorship_tag": "ABX9TyPH+CAGCWyijzTiGxnL1X9n",
      "include_colab_link": true
    },
    "kernelspec": {
      "name": "python3",
      "display_name": "Python 3"
    },
    "language_info": {
      "name": "python"
    }
  },
  "cells": [
    {
      "cell_type": "markdown",
      "metadata": {
        "id": "view-in-github",
        "colab_type": "text"
      },
      "source": [
        "<a href=\"https://colab.research.google.com/github/fk8663212/python20210425/blob/main/%E6%A5%8A%E6%88%90%E5%87%B1_3_python%E6%B1%BA%E7%AD%96%E8%88%87%E9%81%B8%E6%93%87%E7%B5%90%E6%A7%8B.ipynb\" target=\"_parent\"><img src=\"https://colab.research.google.com/assets/colab-badge.svg\" alt=\"Open In Colab\"/></a>"
      ]
    },
    {
      "cell_type": "markdown",
      "metadata": {
        "id": "_sKxzHIngLGW"
      },
      "source": [
        "# **python決策與選擇結構(SELECTION /DECISION)**\n",
        "程式語言都會有的決策與選擇結構(SELECTION /DECISION)\n",
        "C C++ C# \n",
        "\n",
        "[1]if\n",
        "\n",
        "[2]if ...elsif\n",
        "\n",
        "[3]if ...else\n",
        "\n",
        "[4]if ...elsif ...else\n",
        "\n",
        "\n",
        "[5]各種判斷條件==> 善用 AND   OR\n",
        "\n",
        "[6]範例\n",
        "\n",
        "單向判斷式（if⋯）: 是非題｜對的才要做\n",
        "\n",
        "雙向判斷式（if⋯else）: 二選一｜一定要選的\n",
        "\n",
        "多向判斷式（if⋯elif⋯else）: 多選一｜一定要選的\n",
        "\n",
        "PS: Python沒有switch\n",
        "https://www.w3schools.com/python/python_conditions.asp"
      ]
    },
    {
      "cell_type": "markdown",
      "metadata": {
        "id": "fEhpVehKgXL6"
      },
      "source": [
        "# **[1]if ==>底下程式輸出為何?**"
      ]
    },
    {
      "cell_type": "code",
      "metadata": {
        "colab": {
          "base_uri": "https://localhost:8080/"
        },
        "id": "2pftE68tgIOl",
        "outputId": "5be9b777-eb8c-42af-b43e-c45baa1bdf21"
      },
      "source": [
        "a = 33\n",
        "b = 200\n",
        "\n",
        "if b > a:\n",
        "  print(\"b is greater than a\")\n",
        "a = 33\n",
        "b = 20\n",
        "\n",
        "if b > a:\n",
        "  print(\"b is greater than a\")"
      ],
      "execution_count": 1,
      "outputs": [
        {
          "output_type": "stream",
          "text": [
            "b is greater than a\n"
          ],
          "name": "stdout"
        }
      ]
    },
    {
      "cell_type": "markdown",
      "metadata": {
        "id": "itGriaNOgeLz"
      },
      "source": [
        "# **[2]if ...elsif ==>底下程式輸出為何?**"
      ]
    },
    {
      "cell_type": "code",
      "metadata": {
        "id": "QoRzGgsDgdiU"
      },
      "source": [
        "a = 35\n",
        "b = 33\n",
        "\n",
        "if b > a:\n",
        "  print(\"b is greater than a\")\n",
        "elif a == b:\n",
        "  print(\"a and b are equal\")"
      ],
      "execution_count": 2,
      "outputs": []
    },
    {
      "cell_type": "markdown",
      "metadata": {
        "id": "3Wk32wR9ghxj"
      },
      "source": [
        "# **雙向判斷式（if⋯else）: 二選一｜一定要選的**"
      ]
    },
    {
      "cell_type": "code",
      "metadata": {
        "colab": {
          "base_uri": "https://localhost:8080/"
        },
        "id": "raRevKtfgjBG",
        "outputId": "f7798eee-360b-4ac8-dc8f-d6fabb4c919c"
      },
      "source": [
        "a = 200\n",
        "b = 33\n",
        "\n",
        "if b > a:\n",
        "  print(\"b is greater than a\")\n",
        "else:\n",
        "  print(\"b is not greater than a\")"
      ],
      "execution_count": 3,
      "outputs": [
        {
          "output_type": "stream",
          "text": [
            "b is not greater than a\n"
          ],
          "name": "stdout"
        }
      ]
    },
    {
      "cell_type": "markdown",
      "metadata": {
        "id": "CPErSqZign9T"
      },
      "source": [
        "# **[4]if ...elsif ...else 多選一｜一定要選的**"
      ]
    },
    {
      "cell_type": "code",
      "metadata": {
        "colab": {
          "base_uri": "https://localhost:8080/"
        },
        "id": "b676tyXRgmO3",
        "outputId": "89d8efd4-01d1-4137-9cee-989f4246d01a"
      },
      "source": [
        "a = 200\n",
        "b = 33\n",
        "\n",
        "if b > a:\n",
        "  print(\"b is greater than a\")\n",
        "elif a == b:\n",
        "  print(\"a and b are equal\")\n",
        "else:\n",
        "  print(\"a is greater than b\")"
      ],
      "execution_count": 4,
      "outputs": [
        {
          "output_type": "stream",
          "text": [
            "a is greater than b\n"
          ],
          "name": "stdout"
        }
      ]
    },
    {
      "cell_type": "markdown",
      "metadata": {
        "id": "tQXwR-0Egq7k"
      },
      "source": [
        "# **[5]各種判斷條件 ==> 善用 AND OR**"
      ]
    },
    {
      "cell_type": "code",
      "metadata": {
        "colab": {
          "base_uri": "https://localhost:8080/"
        },
        "id": "NJda4Komgu5j",
        "outputId": "3c76435a-1ba6-4c7b-9bf6-a04e15d9168f"
      },
      "source": [
        "#判斷是否為閏年\n",
        "year= eval(input(\"請輸入年\"))\n",
        "\n",
        "if ((year%400==0) or (year%4==0 and year%100!=0)):\n",
        "  print(\"{0} 是閏年\".format(year))\n",
        "else:\n",
        "  print(\"{0} 不是閏年\".format(year))"
      ],
      "execution_count": 5,
      "outputs": [
        {
          "output_type": "stream",
          "text": [
            "請輸入年2021\n",
            "2021 不是閏年\n"
          ],
          "name": "stdout"
        }
      ]
    },
    {
      "cell_type": "markdown",
      "metadata": {
        "id": "CqZG_HOTguga"
      },
      "source": [
        "# **[6]歲月匆匆程式開發 ==>先講 運算思維 再講程式語法**\n",
        "問題簡述:\n",
        "\n",
        "輸入:年月日\n",
        "\n",
        "輸出:今年已經過了多少日"
      ]
    },
    {
      "cell_type": "code",
      "metadata": {
        "colab": {
          "base_uri": "https://localhost:8080/"
        },
        "id": "cZlPvGzVg9Ha",
        "outputId": "2c718f95-40b0-4f99-9c77-14ec86531644"
      },
      "source": [
        "year, month, day = eval(input(\"請輸入年月日\"))\n",
        "print(year, month, day)\n",
        "\n",
        "day_month = [31, 28, 31, 30, 31, 30, 31, 31, 30, 31, 30, 31]\n",
        "\n",
        "if year%400==0 or (year%4==0 and year%100!=0):\t\n",
        "  day_month[1] = 29\n",
        "\n",
        "if month==1:\n",
        "    print(day)\n",
        "else:\n",
        "    print(sum(day_month[:month-1])+day)"
      ],
      "execution_count": 8,
      "outputs": [
        {
          "output_type": "stream",
          "text": [
            "請輸入年月日2011,4,15\n",
            "2011 4 15\n",
            "105\n"
          ],
          "name": "stdout"
        }
      ]
    },
    {
      "cell_type": "markdown",
      "metadata": {
        "id": "tK0kJYKQhV0e"
      },
      "source": [
        "# **多向判斷式（if⋯elif⋯else）:收銀台程式開發**\n",
        "\n",
        "百貨公司週年慶活動血拼大打折，\n",
        "\n",
        "吸引很多顧客上門，\n",
        "\n",
        "公司決定再加碼回饋客戶，\n",
        "\n",
        "只要客戶消費\n",
        "\n",
        "金額在 100000 元以上就打八折，\n",
        "\n",
        "金額在 50000 元以上就打八五折，\n",
        "\n",
        "金額在 30000 元以上就打九折，\n",
        "\n",
        "金額在 10000 元以上就打九五折，\n",
        "\n",
        "金額在 10000 元以下就不打折\n",
        "\n",
        "請幫該公司設計這個收銀台的程式，\n",
        "輸入顧客購買金額後，計算顧客應付的金錢。\n",
        "\n",
        "若輸入113234元顧客應付多少錢?"
      ]
    },
    {
      "cell_type": "code",
      "metadata": {
        "colab": {
          "base_uri": "https://localhost:8080/"
        },
        "id": "YXdwo_6KhfRL",
        "outputId": "2eed366f-a017-49f7-a652-caf5b101571a"
      },
      "source": [
        "money = int(input(\"請輸入購物金額：\"))\n",
        "\n",
        "if(money >= 10000):\n",
        "    if(money >= 100000):\n",
        "        print(money * 0.8, end=\" 元\\n\")  #八折\n",
        "    elif(money >= 50000):\n",
        "        print(money * 0.85, end=\" 元\\n\")  #八五折\n",
        "    elif(money >= 30000):\n",
        "        print(money * 0.9, end=\" 元\\n\")  #九折\n",
        "    else:\n",
        "        print(money * 0.95, end=\" 元\\n\")  #九五折\n",
        "else:\n",
        "    print(money, end=\" 元\\n\")  #未打折"
      ],
      "execution_count": 9,
      "outputs": [
        {
          "output_type": "stream",
          "text": [
            "請輸入購物金額：120569\n",
            "96455.20000000001 元\n"
          ],
          "name": "stdout"
        }
      ]
    }
  ]
}